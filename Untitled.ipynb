{
 "cells": [
  {
   "cell_type": "code",
   "execution_count": null,
   "id": "39fcd24e-9c00-46ca-beab-99847104a289",
   "metadata": {},
   "outputs": [],
   "source": []
  }
 ],
 "metadata": {
  "kernelspec": {
   "display_name": "",
   "name": ""
  },
  "language_info": {
   "name": ""
  }
 },
 "nbformat": 4,
 "nbformat_minor": 5
}
